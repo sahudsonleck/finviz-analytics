{
 "cells": [
  {
   "cell_type": "markdown",
   "metadata": {},
   "source": [
    "# Finviz Analytics\n",
    "\n",
    "\n",
    "### What is Finviz?\n",
    "FinViz aims to make market information accessible and provides a lot of data in visual snapshots, allowing traders and investors to quickly find the stock, future or forex pair they are looking for. The site provides advanced screeners, market maps, analysis, comparative tools and charts.\n",
    "\n",
    "### Why?\n",
    "Leverage NRT financial stats to create custom stock screens and perspectives to identify value with in volatile market conditions."
   ]
  },
  {
   "cell_type": "markdown",
   "metadata": {},
   "source": [
    "***\n",
    "## Prerequisites \n",
    "\n",
    "### finviz\n",
    "Finviz is a stock screener and trading tool used for creating financial displays. Professional traders frequently use this platform to save time because Finviz allows traders and investors to quickly screen and find stocks based on set criteria.\n",
    "\n",
    "\n",
    "### pandas, pandas_profiling\n",
    "Pandas needs no introduction.  Pandas_profiling creates beautiful html data profiles.\n",
    "\n",
    "### nest_asyncio\n",
    "Nest_asyncio supports asynchronous call for use with an interactive broker.\n",
    "\n"
   ]
  },
  {
   "cell_type": "code",
   "execution_count": null,
   "metadata": {},
   "outputs": [],
   "source": [
    "import pandas as pd \n",
    "import logging \n",
    "from finviz.screener import Screener\n",
    "\n",
    "log = logging.getLogger() \n",
    "console = logging.StreamHandler()\n",
    "format_str = '%(asctime)s\\t%(levelname)s -- %(processName)s -- %(message)s'\n",
    "console.setFormatter(logging.Formatter(format_str))\n",
    "log.addHandler(console) \n",
    "log.setLevel(logging.INFO) \n"
   ]
  },
  {
   "cell_type": "markdown",
   "metadata": {},
   "source": [
    "***\n",
    "## Load environment and runtime variables\n",
    "\n"
   ]
  },
  {
   "cell_type": "code",
   "execution_count": 2,
   "metadata": {},
   "outputs": [
    {
     "name": "stderr",
     "output_type": "stream",
     "text": [
      "2020-06-30 18:29:39,405\tINFO -- MainProcess -- loaded: api_params\n",
      "2020-06-30 18:29:39,408\tINFO -- MainProcess -- loaded: data_var\n",
      "2020-06-30 18:29:39,410\tINFO -- MainProcess -- loaded: env_var\n",
      "2020-06-30 18:29:39,411\tINFO -- MainProcess -- loaded: err_var\n",
      "2020-06-30 18:29:39,412\tINFO -- MainProcess -- loaded: map_generic_fn\n",
      "2020-06-30 18:29:39,413\tINFO -- MainProcess -- loaded: map_landing_dataset_code\n",
      "2020-06-30 18:29:39,414\tINFO -- MainProcess -- loaded: transform\n"
     ]
    }
   ],
   "source": [
    "'''\n",
    "MODULE is used to identify and segment runtime and environment variables from config files.\n",
    "'''\n",
    "MODULE = 'ldg_finviz'\n",
    "\n",
    "\n",
    "'''\n",
    "Load configuration fiiles from \\config.  Instansiate variables with config file names.  \n",
    "'''\n",
    "import os \n",
    "d = os.getcwd()\n",
    "df = d + '\\\\config\\\\'\n",
    "try: \n",
    "    for i in os.listdir(df):\n",
    "        k = i[:-4] \n",
    "        v = open(df + i).read()\n",
    "        v = eval(v)\n",
    "        exec(\"%s=%s\" % (k,v))   \n",
    "        log.info('loaded: ' + k)\n",
    "except:\n",
    "    log.error('issue encountered with eval(data): ' + str(v))\n"
   ]
  },
  {
   "cell_type": "code",
   "execution_count": 3,
   "metadata": {},
   "outputs": [],
   "source": [
    "def get_data_finviz(generate_data_profile=False):\n",
    "    '''\n",
    "    Download FinViz 15min delayed stock data.  \n",
    "    * filter - Filter stock universe using filters variable.  \n",
    "    * Select datasets to download using the map_api_fv_table_key.config  \n",
    "    * Dataset options include: \n",
    "        'Overview': '111',\n",
    "        'Valuation': '121',\n",
    "        'Ownership': '131',\n",
    "        'Performance': '141',\n",
    "        'Custom': '152',\n",
    "        'Financial': '161',\n",
    "        'Technical': '171'\n",
    "    * Refer to /docs for dataset details.\n",
    "    \n",
    "    Output data in .csv format to landing.\n",
    "    '''\n",
    "    import nest_asyncio\n",
    "    nest_asyncio.apply()\n",
    "    \n",
    "    #load variables\n",
    "    ldg_path = env_var.get('ldg_path') \n",
    "    filters = api_params['filter']\n",
    "\n",
    "    #loop through datasets to download from Screener & write to file.\n",
    "    for i in api_params['datasets']:\n",
    "        log.info('downloading:' + i.get('dataset').lower())\n",
    "        stock_list = Screener(filters=filters, table= i.get('dataset'))\n",
    "        stock_list.to_csv(ldg_path + 'stock_screener_' +  i.get('dataset').lower() + '.csv')\n",
    "    \n",
    "    if generate_data_profile == True:\n",
    "        log.info('begin pandas profile.html generation')\n",
    "        generate_docs('ldg_path')\n",
    "\n",
    "def get_transform(target):\n",
    "    '''\n",
    "    Get transform from transform.cfg for target dataset\n",
    "    #returns a list of dicts with transform logic in format {field:value, fn:value} \n",
    "    '''\n",
    "\n",
    "    lst = [i.get(target) for i in transform['root'] if i.get(target) != None]\n",
    "    if lst != []: lst = lst[0]\n",
    "\n",
    "    return lst\n",
    "\n",
    "def apply_transform(df, transform, target):\n",
    "    '''\n",
    "    apply list of tranformstions to dataframe\n",
    "    '''\n",
    "    import numpy as np\n",
    "    log.info('begin transforms for: ' + target)\n",
    "    \n",
    "    try: \n",
    "        for t in transform: \n",
    "\n",
    "            #get function to apply\n",
    "            fn = t.get('fn')    \n",
    "            #get reusable function from map_generic_fn if fn starts with $ \n",
    "            if fn[0] == '$': fn = map_generic_fn.get(fn)\n",
    "\n",
    "            #get field or fields to update\n",
    "            field = t.get('field')\n",
    "            if field[0] == '[':field = eval(field) \n",
    "            #log.info('apply transform: {field, function} ' + str(field) + ' ' + fn)\n",
    "\n",
    "            #apply transformation\n",
    "            df[field] = eval(fn)\n",
    "    except: \n",
    "        log.error('error encountered with table:' + str(target) + ' field:' + str(field) + ' fn:' + str(fn) )\n",
    "    \n",
    "    log.info('end transforms for: ' + target)\n",
    "    return \n",
    "\n",
    "def normalize_data():\n",
    "    '''\n",
    "    Perform preprocessing and copy data to staging area.  \n",
    "    Preprocessing steps are included in transform.cfg and typically include:\n",
    "    - metadata validation / data contract\n",
    "    - preliminary schema normalization\n",
    "    - data type validation & associated cleansing.  \n",
    "    '''\n",
    "    \n",
    "    ldg_path = env_var.get('ldg_path') \n",
    "    stg_path = env_var.get('stg_path')\n",
    "    \n",
    "    try:\n",
    "        #for each dataset in map_landing_dataset_code\n",
    "        for i in map_landing_dataset_code.get(MODULE):\n",
    "\n",
    "            #load file for meta contract and data type conversion\n",
    "            file = ldg_path + i.get('file')\n",
    "            code = i.get('code')\n",
    "            df = pd.read_csv(file)\n",
    "\n",
    "            trns = get_transform(code)\n",
    "            if trns != []:\n",
    "                #apply transformation to dataframe\n",
    "                apply_transform(df,trns,code)\n",
    "\n",
    "            df.to_csv(stg_path + i.get('file'))\n",
    "            #TODO Normalize column names, tolwower() with underscores...             \n",
    "    except:\n",
    "        log.error('error in normalize_data()')\n",
    "        \n",
    "def generate_docs(path):\n",
    "    '''\n",
    "    generate pandas_profile.html reports\n",
    "    '''\n",
    "    from pandas_profiling import ProfileReport\n",
    "    \n",
    "    data_path = env_var.get(path)\n",
    "    \n",
    "    try: \n",
    "        for i in map_landing_dataset_code[MODULE]:\n",
    "            file = i.get('file')\n",
    "            print(file)\n",
    "            df = pd.read_csv(data_path + file)\n",
    "            profile = ProfileReport(df, title= 'Profile: ' + file + ' (Landing)')\n",
    "            fpdf =  data_path + 'profile_' + file[0:-4] + '.pdf'\n",
    "        \n",
    "            profile.to_file(fpdf)\n",
    "            #convert_file_format(fhtml,fpdf)\n",
    "            \n",
    "    except:\n",
    "        log.error('error in generating pandas_profile.html')\n",
    "\n",
    "def convert_file_format(fromfile, tofile):\n",
    "    import pdfkit as pk\n",
    "    pk.from_file(fromfile,tofile)\n",
    "    \n",
    "\n",
    "def convert_unit(u):\n",
    "    if len(u) != 1: \n",
    "        ua = u\n",
    "        u = str(u[-1])\n",
    "        val = str(ua[0:-1]).replace('.','')\n",
    "    else:  val = ''\n",
    "    u=u.lower()\n",
    "\n",
    "    if u == 'm':\n",
    "        val += '0000'\n",
    "    elif u == 'b':\n",
    "        val += '0000000'\n",
    "    return val "
   ]
  },
  {
   "cell_type": "markdown",
   "metadata": {},
   "source": [
    "# Download & stage data "
   ]
  },
  {
   "cell_type": "code",
   "execution_count": 4,
   "metadata": {},
   "outputs": [
    {
     "name": "stderr",
     "output_type": "stream",
     "text": [
      "2020-06-30 18:29:45,048\tINFO -- MainProcess -- begin downloading finviz\n",
      "2020-06-30 18:29:45,051\tINFO -- MainProcess -- downloading:overview\n",
      "2020-06-30 18:29:51,582\tINFO -- MainProcess -- downloading:valuation\n",
      "2020-06-30 18:29:58,655\tINFO -- MainProcess -- downloading:ownership\n",
      "2020-06-30 18:30:06,428\tINFO -- MainProcess -- downloading:performance\n",
      "2020-06-30 18:30:13,557\tINFO -- MainProcess -- downloading:custom\n",
      "2020-06-30 18:30:19,675\tINFO -- MainProcess -- downloading:financial\n",
      "2020-06-30 18:30:26,674\tINFO -- MainProcess -- downloading:technical\n",
      "2020-06-30 18:30:33,519\tINFO -- MainProcess -- begin pandas profile.html generation\n",
      "C:\\ProgramData\\Anaconda3\\lib\\site-packages\\statsmodels\\tools\\_testing.py:19: FutureWarning: pandas.util.testing is deprecated. Use the functions in the public API at pandas.testing instead.\n",
      "  import pandas.util.testing as tm\n"
     ]
    },
    {
     "name": "stdout",
     "output_type": "stream",
     "text": [
      "stock_screener_financial.csv\n"
     ]
    },
    {
     "data": {
      "application/vnd.jupyter.widget-view+json": {
       "model_id": "a10d73dc627c460abbaaabd18f4b1fc4",
       "version_major": 2,
       "version_minor": 0
      },
      "text/plain": [
       "HBox(children=(FloatProgress(value=0.0, description='Summarize dataset', max=32.0, style=ProgressStyle(descrip…"
      ]
     },
     "metadata": {},
     "output_type": "display_data"
    },
    {
     "name": "stderr",
     "output_type": "stream",
     "text": [
      "2020-06-30 18:30:42,207\tINFO -- MainProcess -- Note: NumExpr detected 12 cores but \"NUMEXPR_MAX_THREADS\" not set, so enforcing safe limit of 8.\n",
      "2020-06-30 18:30:42,208\tINFO -- MainProcess -- NumExpr defaulting to 8 threads.\n"
     ]
    },
    {
     "name": "stdout",
     "output_type": "stream",
     "text": [
      "\n"
     ]
    },
    {
     "data": {
      "application/vnd.jupyter.widget-view+json": {
       "model_id": "9036c1fa99d64197a0332a8cdfc7266d",
       "version_major": 2,
       "version_minor": 0
      },
      "text/plain": [
       "HBox(children=(FloatProgress(value=0.0, description='Generate report structure', max=1.0, style=ProgressStyle(…"
      ]
     },
     "metadata": {},
     "output_type": "display_data"
    },
    {
     "name": "stdout",
     "output_type": "stream",
     "text": [
      "\n"
     ]
    },
    {
     "data": {
      "application/vnd.jupyter.widget-view+json": {
       "model_id": "d7d8fe00f2714a27bfd9a5313aa9b521",
       "version_major": 2,
       "version_minor": 0
      },
      "text/plain": [
       "HBox(children=(FloatProgress(value=0.0, description='Render HTML', max=1.0, style=ProgressStyle(description_wi…"
      ]
     },
     "metadata": {},
     "output_type": "display_data"
    },
    {
     "name": "stdout",
     "output_type": "stream",
     "text": [
      "\n"
     ]
    },
    {
     "name": "stderr",
     "output_type": "stream",
     "text": [
      "C:\\Users\\SHuds\\AppData\\Roaming\\Python\\Python37\\site-packages\\pandas_profiling\\profile_report.py:251: UserWarning: Extension .pdf not supported. For now we assume .html was intended. To remove this warning, please use .html or .json.\n",
      "  f\"Extension {suffix} not supported. For now we assume .html was intended. \"\n"
     ]
    },
    {
     "data": {
      "application/vnd.jupyter.widget-view+json": {
       "model_id": "73c6591d1ac74a63ae717ddf3dd53598",
       "version_major": 2,
       "version_minor": 0
      },
      "text/plain": [
       "HBox(children=(FloatProgress(value=0.0, description='Export report to file', max=1.0, style=ProgressStyle(desc…"
      ]
     },
     "metadata": {},
     "output_type": "display_data"
    },
    {
     "name": "stdout",
     "output_type": "stream",
     "text": [
      "\n",
      "stock_screener_overview.csv\n"
     ]
    },
    {
     "data": {
      "application/vnd.jupyter.widget-view+json": {
       "model_id": "6d636168d61a46cb85b58716715ea3be",
       "version_major": 2,
       "version_minor": 0
      },
      "text/plain": [
       "HBox(children=(FloatProgress(value=0.0, description='Summarize dataset', max=25.0, style=ProgressStyle(descrip…"
      ]
     },
     "metadata": {},
     "output_type": "display_data"
    },
    {
     "name": "stdout",
     "output_type": "stream",
     "text": [
      "\n"
     ]
    },
    {
     "data": {
      "application/vnd.jupyter.widget-view+json": {
       "model_id": "fa2de610b5c24a368191eeb43f8ada10",
       "version_major": 2,
       "version_minor": 0
      },
      "text/plain": [
       "HBox(children=(FloatProgress(value=0.0, description='Generate report structure', max=1.0, style=ProgressStyle(…"
      ]
     },
     "metadata": {},
     "output_type": "display_data"
    },
    {
     "name": "stdout",
     "output_type": "stream",
     "text": [
      "\n"
     ]
    },
    {
     "data": {
      "application/vnd.jupyter.widget-view+json": {
       "model_id": "6f4ee2c98d924dd192bb38b1546f2a85",
       "version_major": 2,
       "version_minor": 0
      },
      "text/plain": [
       "HBox(children=(FloatProgress(value=0.0, description='Render HTML', max=1.0, style=ProgressStyle(description_wi…"
      ]
     },
     "metadata": {},
     "output_type": "display_data"
    },
    {
     "name": "stdout",
     "output_type": "stream",
     "text": [
      "\n"
     ]
    },
    {
     "name": "stderr",
     "output_type": "stream",
     "text": [
      "C:\\Users\\SHuds\\AppData\\Roaming\\Python\\Python37\\site-packages\\pandas_profiling\\profile_report.py:251: UserWarning: Extension .pdf not supported. For now we assume .html was intended. To remove this warning, please use .html or .json.\n",
      "  f\"Extension {suffix} not supported. For now we assume .html was intended. \"\n"
     ]
    },
    {
     "data": {
      "application/vnd.jupyter.widget-view+json": {
       "model_id": "cf1b29f84aa9447e95e841025c84fdda",
       "version_major": 2,
       "version_minor": 0
      },
      "text/plain": [
       "HBox(children=(FloatProgress(value=0.0, description='Export report to file', max=1.0, style=ProgressStyle(desc…"
      ]
     },
     "metadata": {},
     "output_type": "display_data"
    },
    {
     "name": "stdout",
     "output_type": "stream",
     "text": [
      "\n",
      "stock_screener_technical.csv\n"
     ]
    },
    {
     "data": {
      "application/vnd.jupyter.widget-view+json": {
       "model_id": "bd8803bc4f23411eb763a9d253f7e863",
       "version_major": 2,
       "version_minor": 0
      },
      "text/plain": [
       "HBox(children=(FloatProgress(value=0.0, description='Summarize dataset', max=29.0, style=ProgressStyle(descrip…"
      ]
     },
     "metadata": {},
     "output_type": "display_data"
    },
    {
     "name": "stdout",
     "output_type": "stream",
     "text": [
      "\n"
     ]
    },
    {
     "data": {
      "application/vnd.jupyter.widget-view+json": {
       "model_id": "bf9d715140604d7a9c9e76a8e73559a7",
       "version_major": 2,
       "version_minor": 0
      },
      "text/plain": [
       "HBox(children=(FloatProgress(value=0.0, description='Generate report structure', max=1.0, style=ProgressStyle(…"
      ]
     },
     "metadata": {},
     "output_type": "display_data"
    },
    {
     "name": "stdout",
     "output_type": "stream",
     "text": [
      "\n"
     ]
    },
    {
     "data": {
      "application/vnd.jupyter.widget-view+json": {
       "model_id": "99c6686f2df04c17b9632dae671836c7",
       "version_major": 2,
       "version_minor": 0
      },
      "text/plain": [
       "HBox(children=(FloatProgress(value=0.0, description='Render HTML', max=1.0, style=ProgressStyle(description_wi…"
      ]
     },
     "metadata": {},
     "output_type": "display_data"
    },
    {
     "name": "stdout",
     "output_type": "stream",
     "text": [
      "\n"
     ]
    },
    {
     "name": "stderr",
     "output_type": "stream",
     "text": [
      "C:\\Users\\SHuds\\AppData\\Roaming\\Python\\Python37\\site-packages\\pandas_profiling\\profile_report.py:251: UserWarning: Extension .pdf not supported. For now we assume .html was intended. To remove this warning, please use .html or .json.\n",
      "  f\"Extension {suffix} not supported. For now we assume .html was intended. \"\n"
     ]
    },
    {
     "data": {
      "application/vnd.jupyter.widget-view+json": {
       "model_id": "c9f29e8a616d4c4bb2f9ebb6b95e452f",
       "version_major": 2,
       "version_minor": 0
      },
      "text/plain": [
       "HBox(children=(FloatProgress(value=0.0, description='Export report to file', max=1.0, style=ProgressStyle(desc…"
      ]
     },
     "metadata": {},
     "output_type": "display_data"
    },
    {
     "name": "stdout",
     "output_type": "stream",
     "text": [
      "\n",
      "stock_screener_custom.csv\n"
     ]
    },
    {
     "data": {
      "application/vnd.jupyter.widget-view+json": {
       "model_id": "3b92e7c2f28645b9baf22e5229f2990b",
       "version_major": 2,
       "version_minor": 0
      },
      "text/plain": [
       "HBox(children=(FloatProgress(value=0.0, description='Summarize dataset', max=25.0, style=ProgressStyle(descrip…"
      ]
     },
     "metadata": {},
     "output_type": "display_data"
    },
    {
     "name": "stdout",
     "output_type": "stream",
     "text": [
      "\n"
     ]
    },
    {
     "data": {
      "application/vnd.jupyter.widget-view+json": {
       "model_id": "891d398d281e42c09bb6a3e24a4b31cd",
       "version_major": 2,
       "version_minor": 0
      },
      "text/plain": [
       "HBox(children=(FloatProgress(value=0.0, description='Generate report structure', max=1.0, style=ProgressStyle(…"
      ]
     },
     "metadata": {},
     "output_type": "display_data"
    },
    {
     "name": "stdout",
     "output_type": "stream",
     "text": [
      "\n"
     ]
    },
    {
     "data": {
      "application/vnd.jupyter.widget-view+json": {
       "model_id": "e6e325a131f940b089f4391c306fe8ee",
       "version_major": 2,
       "version_minor": 0
      },
      "text/plain": [
       "HBox(children=(FloatProgress(value=0.0, description='Render HTML', max=1.0, style=ProgressStyle(description_wi…"
      ]
     },
     "metadata": {},
     "output_type": "display_data"
    },
    {
     "name": "stdout",
     "output_type": "stream",
     "text": [
      "\n"
     ]
    },
    {
     "name": "stderr",
     "output_type": "stream",
     "text": [
      "C:\\Users\\SHuds\\AppData\\Roaming\\Python\\Python37\\site-packages\\pandas_profiling\\profile_report.py:251: UserWarning: Extension .pdf not supported. For now we assume .html was intended. To remove this warning, please use .html or .json.\n",
      "  f\"Extension {suffix} not supported. For now we assume .html was intended. \"\n"
     ]
    },
    {
     "data": {
      "application/vnd.jupyter.widget-view+json": {
       "model_id": "ca641a480a7444a78336395388439d04",
       "version_major": 2,
       "version_minor": 0
      },
      "text/plain": [
       "HBox(children=(FloatProgress(value=0.0, description='Export report to file', max=1.0, style=ProgressStyle(desc…"
      ]
     },
     "metadata": {},
     "output_type": "display_data"
    },
    {
     "name": "stdout",
     "output_type": "stream",
     "text": [
      "\n",
      "stock_screener_performance.csv\n"
     ]
    },
    {
     "data": {
      "application/vnd.jupyter.widget-view+json": {
       "model_id": "11a9638b47fe41449d94cdc94d819371",
       "version_major": 2,
       "version_minor": 0
      },
      "text/plain": [
       "HBox(children=(FloatProgress(value=0.0, description='Summarize dataset', max=30.0, style=ProgressStyle(descrip…"
      ]
     },
     "metadata": {},
     "output_type": "display_data"
    },
    {
     "name": "stdout",
     "output_type": "stream",
     "text": [
      "\n"
     ]
    },
    {
     "data": {
      "application/vnd.jupyter.widget-view+json": {
       "model_id": "b1bf42fcab934970bd2e6b09a9db6d62",
       "version_major": 2,
       "version_minor": 0
      },
      "text/plain": [
       "HBox(children=(FloatProgress(value=0.0, description='Generate report structure', max=1.0, style=ProgressStyle(…"
      ]
     },
     "metadata": {},
     "output_type": "display_data"
    },
    {
     "name": "stdout",
     "output_type": "stream",
     "text": [
      "\n"
     ]
    },
    {
     "data": {
      "application/vnd.jupyter.widget-view+json": {
       "model_id": "d60e2f97db3e4571a59632e7ca1e813e",
       "version_major": 2,
       "version_minor": 0
      },
      "text/plain": [
       "HBox(children=(FloatProgress(value=0.0, description='Render HTML', max=1.0, style=ProgressStyle(description_wi…"
      ]
     },
     "metadata": {},
     "output_type": "display_data"
    },
    {
     "name": "stdout",
     "output_type": "stream",
     "text": [
      "\n"
     ]
    },
    {
     "name": "stderr",
     "output_type": "stream",
     "text": [
      "C:\\Users\\SHuds\\AppData\\Roaming\\Python\\Python37\\site-packages\\pandas_profiling\\profile_report.py:251: UserWarning: Extension .pdf not supported. For now we assume .html was intended. To remove this warning, please use .html or .json.\n",
      "  f\"Extension {suffix} not supported. For now we assume .html was intended. \"\n"
     ]
    },
    {
     "data": {
      "application/vnd.jupyter.widget-view+json": {
       "model_id": "17d97a33075241b88384fdd9dedbb1d4",
       "version_major": 2,
       "version_minor": 0
      },
      "text/plain": [
       "HBox(children=(FloatProgress(value=0.0, description='Export report to file', max=1.0, style=ProgressStyle(desc…"
      ]
     },
     "metadata": {},
     "output_type": "display_data"
    },
    {
     "name": "stdout",
     "output_type": "stream",
     "text": [
      "\n",
      "stock_screener_ownership.csv\n"
     ]
    },
    {
     "data": {
      "application/vnd.jupyter.widget-view+json": {
       "model_id": "b220119c15684f67a183e8e387f24230",
       "version_major": 2,
       "version_minor": 0
      },
      "text/plain": [
       "HBox(children=(FloatProgress(value=0.0, description='Summarize dataset', max=29.0, style=ProgressStyle(descrip…"
      ]
     },
     "metadata": {},
     "output_type": "display_data"
    },
    {
     "name": "stdout",
     "output_type": "stream",
     "text": [
      "\n"
     ]
    },
    {
     "data": {
      "application/vnd.jupyter.widget-view+json": {
       "model_id": "82ae641294ec44c99bc1d8da9c9865f6",
       "version_major": 2,
       "version_minor": 0
      },
      "text/plain": [
       "HBox(children=(FloatProgress(value=0.0, description='Generate report structure', max=1.0, style=ProgressStyle(…"
      ]
     },
     "metadata": {},
     "output_type": "display_data"
    },
    {
     "name": "stdout",
     "output_type": "stream",
     "text": [
      "\n"
     ]
    },
    {
     "data": {
      "application/vnd.jupyter.widget-view+json": {
       "model_id": "4a2552c230b74317bc9d1e013a7abae0",
       "version_major": 2,
       "version_minor": 0
      },
      "text/plain": [
       "HBox(children=(FloatProgress(value=0.0, description='Render HTML', max=1.0, style=ProgressStyle(description_wi…"
      ]
     },
     "metadata": {},
     "output_type": "display_data"
    },
    {
     "name": "stdout",
     "output_type": "stream",
     "text": [
      "\n"
     ]
    },
    {
     "name": "stderr",
     "output_type": "stream",
     "text": [
      "C:\\Users\\SHuds\\AppData\\Roaming\\Python\\Python37\\site-packages\\pandas_profiling\\profile_report.py:251: UserWarning: Extension .pdf not supported. For now we assume .html was intended. To remove this warning, please use .html or .json.\n",
      "  f\"Extension {suffix} not supported. For now we assume .html was intended. \"\n"
     ]
    },
    {
     "data": {
      "application/vnd.jupyter.widget-view+json": {
       "model_id": "a3b164821e0b44bd9168cb97e575c488",
       "version_major": 2,
       "version_minor": 0
      },
      "text/plain": [
       "HBox(children=(FloatProgress(value=0.0, description='Export report to file', max=1.0, style=ProgressStyle(desc…"
      ]
     },
     "metadata": {},
     "output_type": "display_data"
    },
    {
     "name": "stdout",
     "output_type": "stream",
     "text": [
      "\n",
      "stock_screener_valuation.csv\n"
     ]
    },
    {
     "data": {
      "application/vnd.jupyter.widget-view+json": {
       "model_id": "cb073f27bc55478a95cb9cd9f15b652c",
       "version_major": 2,
       "version_minor": 0
      },
      "text/plain": [
       "HBox(children=(FloatProgress(value=0.0, description='Summarize dataset', max=32.0, style=ProgressStyle(descrip…"
      ]
     },
     "metadata": {},
     "output_type": "display_data"
    },
    {
     "name": "stdout",
     "output_type": "stream",
     "text": [
      "\n"
     ]
    },
    {
     "data": {
      "application/vnd.jupyter.widget-view+json": {
       "model_id": "748332f8bf534eeeae0f82d03ad0ddf4",
       "version_major": 2,
       "version_minor": 0
      },
      "text/plain": [
       "HBox(children=(FloatProgress(value=0.0, description='Generate report structure', max=1.0, style=ProgressStyle(…"
      ]
     },
     "metadata": {},
     "output_type": "display_data"
    },
    {
     "name": "stdout",
     "output_type": "stream",
     "text": [
      "\n"
     ]
    },
    {
     "data": {
      "application/vnd.jupyter.widget-view+json": {
       "model_id": "d8339bf13da54665a3dbb849e5b2164b",
       "version_major": 2,
       "version_minor": 0
      },
      "text/plain": [
       "HBox(children=(FloatProgress(value=0.0, description='Render HTML', max=1.0, style=ProgressStyle(description_wi…"
      ]
     },
     "metadata": {},
     "output_type": "display_data"
    },
    {
     "name": "stdout",
     "output_type": "stream",
     "text": [
      "\n"
     ]
    },
    {
     "name": "stderr",
     "output_type": "stream",
     "text": [
      "C:\\Users\\SHuds\\AppData\\Roaming\\Python\\Python37\\site-packages\\pandas_profiling\\profile_report.py:251: UserWarning: Extension .pdf not supported. For now we assume .html was intended. To remove this warning, please use .html or .json.\n",
      "  f\"Extension {suffix} not supported. For now we assume .html was intended. \"\n"
     ]
    },
    {
     "data": {
      "application/vnd.jupyter.widget-view+json": {
       "model_id": "6a0a988d51be4de69d015fbd57af5730",
       "version_major": 2,
       "version_minor": 0
      },
      "text/plain": [
       "HBox(children=(FloatProgress(value=0.0, description='Export report to file', max=1.0, style=ProgressStyle(desc…"
      ]
     },
     "metadata": {},
     "output_type": "display_data"
    },
    {
     "name": "stdout",
     "output_type": "stream",
     "text": [
      "\n",
      "stock_screener_overview.csv\n"
     ]
    },
    {
     "data": {
      "application/vnd.jupyter.widget-view+json": {
       "model_id": "c1c4d977aae544eab14d96b12f69d67f",
       "version_major": 2,
       "version_minor": 0
      },
      "text/plain": [
       "HBox(children=(FloatProgress(value=0.0, description='Summarize dataset', max=25.0, style=ProgressStyle(descrip…"
      ]
     },
     "metadata": {},
     "output_type": "display_data"
    },
    {
     "name": "stdout",
     "output_type": "stream",
     "text": [
      "\n"
     ]
    },
    {
     "data": {
      "application/vnd.jupyter.widget-view+json": {
       "model_id": "9281b775b21b4d36a1dcf53aa2fcb50b",
       "version_major": 2,
       "version_minor": 0
      },
      "text/plain": [
       "HBox(children=(FloatProgress(value=0.0, description='Generate report structure', max=1.0, style=ProgressStyle(…"
      ]
     },
     "metadata": {},
     "output_type": "display_data"
    },
    {
     "name": "stdout",
     "output_type": "stream",
     "text": [
      "\n"
     ]
    },
    {
     "data": {
      "application/vnd.jupyter.widget-view+json": {
       "model_id": "2ea149c9e38d4689910b08ea62434a91",
       "version_major": 2,
       "version_minor": 0
      },
      "text/plain": [
       "HBox(children=(FloatProgress(value=0.0, description='Render HTML', max=1.0, style=ProgressStyle(description_wi…"
      ]
     },
     "metadata": {},
     "output_type": "display_data"
    },
    {
     "name": "stdout",
     "output_type": "stream",
     "text": [
      "\n"
     ]
    },
    {
     "name": "stderr",
     "output_type": "stream",
     "text": [
      "C:\\Users\\SHuds\\AppData\\Roaming\\Python\\Python37\\site-packages\\pandas_profiling\\profile_report.py:251: UserWarning: Extension .pdf not supported. For now we assume .html was intended. To remove this warning, please use .html or .json.\n",
      "  f\"Extension {suffix} not supported. For now we assume .html was intended. \"\n"
     ]
    },
    {
     "data": {
      "application/vnd.jupyter.widget-view+json": {
       "model_id": "d5aeb500ae51485a931a6d0cc08607bd",
       "version_major": 2,
       "version_minor": 0
      },
      "text/plain": [
       "HBox(children=(FloatProgress(value=0.0, description='Export report to file', max=1.0, style=ProgressStyle(desc…"
      ]
     },
     "metadata": {},
     "output_type": "display_data"
    },
    {
     "name": "stderr",
     "output_type": "stream",
     "text": [
      "2020-06-30 18:31:19,499\tINFO -- MainProcess -- end downloading finviz\n",
      "2020-06-30 18:31:19,499\tINFO -- MainProcess -- begin finviz preprocessing\n"
     ]
    },
    {
     "name": "stdout",
     "output_type": "stream",
     "text": [
      "\n"
     ]
    },
    {
     "name": "stderr",
     "output_type": "stream",
     "text": [
      "2020-06-30 18:31:19,524\tINFO -- MainProcess -- begin transforms for: ssfin\n",
      "2020-06-30 18:31:19,614\tINFO -- MainProcess -- end transforms for: ssfin\n",
      "2020-06-30 18:31:19,712\tINFO -- MainProcess -- begin transforms for: ssovw\n",
      "2020-06-30 18:31:19,733\tINFO -- MainProcess -- end transforms for: ssovw\n",
      "2020-06-30 18:31:19,798\tINFO -- MainProcess -- begin transforms for: sstec\n",
      "2020-06-30 18:31:19,894\tINFO -- MainProcess -- end transforms for: sstec\n",
      "2020-06-30 18:31:20,003\tINFO -- MainProcess -- begin transforms for: sscust\n",
      "2020-06-30 18:31:20,022\tINFO -- MainProcess -- end transforms for: sscust\n",
      "2020-06-30 18:31:20,089\tINFO -- MainProcess -- begin transforms for: ssperf\n",
      "2020-06-30 18:31:20,186\tINFO -- MainProcess -- end transforms for: ssperf\n",
      "2020-06-30 18:31:20,295\tINFO -- MainProcess -- begin transforms for: ssown\n",
      "2020-06-30 18:31:20,415\tINFO -- MainProcess -- end transforms for: ssown\n",
      "2020-06-30 18:31:20,510\tINFO -- MainProcess -- begin transforms for: ssval\n",
      "2020-06-30 18:31:20,571\tINFO -- MainProcess -- end transforms for: ssval\n",
      "2020-06-30 18:31:20,653\tINFO -- MainProcess -- begin transforms for: ssovw\n",
      "2020-06-30 18:31:20,674\tINFO -- MainProcess -- end transforms for: ssovw\n",
      "2020-06-30 18:31:20,719\tINFO -- MainProcess -- end finviz preprocessing\n"
     ]
    }
   ],
   "source": [
    "log.info('begin downloading finviz')\n",
    "get_data_finviz(generate_data_profile=True)\n",
    "log.info('end downloading finviz')\n",
    "\n",
    "\n",
    "log.info('begin finviz preprocessing')\n",
    "normalize_data()\n",
    "log.info('end finviz preprocessing')"
   ]
  },
  {
   "cell_type": "code",
   "execution_count": null,
   "metadata": {},
   "outputs": [],
   "source": [
    "def enrich_data_finviz():\n",
    "    import numpy as np\n",
    "    \n",
    "    ENF = err_var.get('no_param')\n",
    "    stg_path = env_var.get('stg_path')\n",
    "    \n",
    "    fown =stg_path + data_var[MODULE].get('stock_ownership',ENF)\n",
    "    fovr =stg_path + data_var[MODULE].get('stock_overview',ENF)\n",
    "    key = data_var[MODULE].get('stock_key',ENF)\n",
    "    \n",
    "    if (fown==ENF) or (fovr== ENF) or (key == ENF):\n",
    "        e = 'missing file or key name'\n",
    "        log_diagnostics('enrich_data_finviz',e,env_var)\n",
    "        return\n",
    "    \n",
    "    #generate additional attibutes\n",
    "    df_own = pd.read_csv(fown).reset_index()\n",
    "    df_own.set_index(key,inplace=True)\n",
    "    df_view = pd.read_csv(fovr).reset_index()\n",
    "    df_view.set_index(key,inplace=True)\n",
    "    df = pd.merge(df_own,df_view,how='inner',left_index = True, right_index=True)\n",
    "    df.reset_index(inplace=True)\n",
    "\n",
    "    target = 'stg_finviz_summary'            \n",
    "    transform = get_transform(target) \n",
    "    apply_transform(df,transform,target)\n",
    "    df = df[['Ticker','eps','earnings','P/E','e/p','Outstanding']]\n",
    "\n",
    "    df.to_csv(stg_path + 'stock_screener_summary.csv')\n",
    "\n",
    "\n",
    "enrich_data_finviz()"
   ]
  },
  {
   "cell_type": "code",
   "execution_count": null,
   "metadata": {},
   "outputs": [],
   "source": [
    "!pip uninstall pdfkit\n",
    "!pip uninstall weasyprint"
   ]
  },
  {
   "cell_type": "code",
   "execution_count": null,
   "metadata": {},
   "outputs": [],
   "source": []
  }
 ],
 "metadata": {
  "kernelspec": {
   "display_name": "Python 3",
   "language": "python",
   "name": "python3"
  },
  "language_info": {
   "codemirror_mode": {
    "name": "ipython",
    "version": 3
   },
   "file_extension": ".py",
   "mimetype": "text/x-python",
   "name": "python",
   "nbconvert_exporter": "python",
   "pygments_lexer": "ipython3",
   "version": "3.7.4"
  }
 },
 "nbformat": 4,
 "nbformat_minor": 2
}
