{
 "cells": [
  {
   "cell_type": "markdown",
   "metadata": {},
   "source": [
    "# Finviz Analytics\n",
    "\n",
    "\n",
    "### What is Finviz?\n",
    "FinViz aims to make market information accessible and provides a lot of data in visual snapshots, allowing traders and investors to quickly find the stock, future or forex pair they are looking for. The site provides advanced screeners, market maps, analysis, comparative tools and charts.\n",
    "\n",
    "### Why?\n",
    "Leverage the unofficial python API for FinViz to create custom stock screeners to identify value with volatile market conditions."
   ]
  },
  {
   "cell_type": "code",
   "execution_count": 3,
   "metadata": {},
   "outputs": [],
   "source": [
    "#!pip install nest_asyncio\n",
    "#!pip install pycodestyle pycodestyle_magic\n",
    "#!pip install flake8\n",
    " \n",
    "import pandas as pd \n",
    "import finviz\n",
    "from finviz.screener import Screener\n",
    "import nest_asyncio"
   ]
  },
  {
   "cell_type": "markdown",
   "metadata": {},
   "source": [
    "## Load environment and runtime variables\n",
    "\n"
   ]
  },
  {
   "cell_type": "code",
   "execution_count": 4,
   "metadata": {},
   "outputs": [],
   "source": [
    "#variable to contain current data module name\n",
    "module = 'ldg_finviz'\n",
    "\n",
    "#filters to reduce finviz api payload\n",
    "#filters = ['exch_nasd', 'idx_sp500', 'fa_div_none']\n",
    "filters = [] #extract all\n",
    "\n",
    "#load configs\n",
    "import os \n",
    "d = os.getcwd()\n",
    "df = d + '\\\\config\\\\'\n",
    "for i in os.listdir(df):\n",
    "    k = i[:-4] \n",
    "    v = eval(open(df + i).read())\n",
    "    exec(\"%s=%s\" % (k,v))        "
   ]
  },
  {
   "cell_type": "markdown",
   "metadata": {},
   "source": [
    "## Using Screener\n",
    "\n",
    "Before using the Screener class, you have to manually go to the website's screener and enter your desired settings. The URL will automatically change every time you add a new setting. After you're done the URL will look something like this:\n",
    "\n",
    "https://i.imgur.com/p8BLt06.png\n",
    "\n",
    "Those parameters are a list of key/value pairs separated with the & symbol. Some keys have a clear intent - f=cap_largeover,exch_nasd,fa_fpe_o10 are filters, o=-ticker is order and t=ZM are tickers - yet, some are ambiguous like v=111, which stands for the type of table.\n",
    "\n",
    "To make matters easier inside the code you won't refer to tables by their number tag, but instead you will use their full name (ex. table=Performance).\n"
   ]
  },
  {
   "cell_type": "code",
   "execution_count": 5,
   "metadata": {},
   "outputs": [],
   "source": [
    "def get_data_finviz(filters):\n",
    "    import nest_asyncio\n",
    "    nest_asyncio.apply()\n",
    "    \n",
    "    env_var, err_var, data_var, transform = unpack_variables(var)\n",
    "    ldg_path = env_var.get('ldg_path') \n",
    "    \n",
    "    for i in map_api_fv_table_key:\n",
    "        print(i.lower())\n",
    "        stock_list = Screener(filters=filters, table=i)\n",
    "        stock_list.to_csv(ldg_path + 'stock_screener_' + i.lower() + '.csv')\n",
    "\n",
    "def unpack_variables(var):\n",
    "    env_var = var['env_var']\n",
    "    data_var = var['data_var']\n",
    "    err_var = var['err_var']\n",
    "    transform = var['transform']\n",
    "    return env_var, err_var, data_var,transform\n",
    "    \n",
    "def log_diagnostics(rpc, e, var):\n",
    "    print('error',rpc,e,env_var)\n",
    "\n",
    "\n",
    "def get_transform(target):\n",
    "    #returns a list of dicts with transform logic in format {field:value, fn:value} \n",
    "    lst = [i.get(target) for i in transform['root'] if i.get(target) != None]\n",
    "    if lst != []: lst = lst[0]\n",
    "    return lst\n",
    "\n",
    "#apply transformations to target dataframe\n",
    "def apply_transform(df, transform):\n",
    "    for t in transform: \n",
    "        fn = t.get('fn')\n",
    "        if fn[0] == '$': fn = map_generic_fn.get(fn)\n",
    "        field = t.get('field')\n",
    "        if field[0] == '[':field = eval(field) \n",
    "        print('apply transform: {field, function}',field,fn)\n",
    "        df[field] = eval(fn)\n",
    "    return \n",
    "\n",
    "#load data from landing, normalize using transforms, output to staging\n",
    "def normalize_data():\n",
    "    for i in map_landing_code.get(module):\n",
    "        #load file for meta contract and data type conversion\n",
    "        file = ldg_path + i.get('file')\n",
    "        code = i.get('code')\n",
    "        df = pd.read_csv(file)\n",
    "\n",
    "        trns = get_transform(code)\n",
    "        if trns != []:\n",
    "            apply_transform(df,trns)\n",
    "        df.to_csv(stg_path + i.get('file'))\n",
    "#TODO Normalize column names, tolwower() with underscores...             \n",
    "\n",
    "def convert_unit(u):\n",
    "    if len(u) != 1: \n",
    "        ua = u\n",
    "        u = str(u[-1])\n",
    "        val = str(ua[0:-1]).replace('.','')\n",
    "    else:  val = ''\n",
    "    u=u.lower()\n",
    "\n",
    "    if u == 'm':\n",
    "        val += '0000'\n",
    "    elif u == 'b':\n",
    "        val += '0000000'\n",
    "    return val "
   ]
  },
  {
   "cell_type": "markdown",
   "metadata": {},
   "source": [
    "# Stage Data from FinViz"
   ]
  },
  {
   "cell_type": "code",
   "execution_count": 6,
   "metadata": {},
   "outputs": [],
   "source": [
    "import numpy as np\n",
    "\n",
    "#dict containing all relevant runtime variables\n",
    "var = {'err_var':err_var, 'env_var':env_var,'data_var':data_var,'transform':transform}\n",
    "env_var, err_var, data_var, transform = unpack_variables(var)\n",
    "ENF = err_var.get('no_param')\n",
    "ldg_path = env_var.get('ldg_path') \n",
    "stg_path = env_var.get('stg_path')\n",
    "\n",
    "#get_data_finviz(filters)\n",
    "#normalize_data()\n"
   ]
  },
  {
   "cell_type": "code",
   "execution_count": 7,
   "metadata": {},
   "outputs": [
    {
     "name": "stdout",
     "output_type": "stream",
     "text": [
      "apply transform: {field, function} Outstanding_unit df.Outstanding.str[-1:].map(convert_unit)\n",
      "apply transform: {field, function} outstanding_shares (df['Outstanding'].str[:-1].str.replace('.','') + df['Outstanding_unit'])\n",
      "apply transform: {field, function} outstanding_shares pd.to_numeric(df['outstanding_shares'],errors='coerce').fillna(0)\n",
      "apply transform: {field, function} P/E (pd.to_numeric(df['P/E'],errors='coerce').fillna(0)).round(decimals=2)\n",
      "apply transform: {field, function} eps (df['Price_x']/(df['P/E'])).round(decimals=2).replace(np.inf,0)\n",
      "apply transform: {field, function} earnings ((df['outstanding_shares'].astype(float)) * (df['eps'])).round(decimals=0)\n",
      "apply transform: {field, function} e/p (df['eps']/df['Price_x']).round(decimals=2)\n"
     ]
    }
   ],
   "source": [
    "def enrich_data_finviz(var):\n",
    "    import numpy as np\n",
    "    env_var, err_var, data_var, transform = unpack_variables(var)\n",
    "    \n",
    "    ENF = err_var.get('no_param')\n",
    "    stg_path = env_var.get('stg_path')\n",
    "    \n",
    "    fown =stg_path + data_var[module].get('stock_ownership',ENF)\n",
    "    fovr =stg_path + data_var[module].get('stock_overview',ENF)\n",
    "    key = data_var[module].get('stock_key',ENF)\n",
    "    \n",
    "    if (fown==ENF) or (fovr== ENF) or (key == ENF):\n",
    "        e = 'missing file or key name'\n",
    "        log_diagnostics('enrich_data_finviz',e,env_var)\n",
    "        return\n",
    "    \n",
    "    #generate additional attibutes\n",
    "    df_own = pd.read_csv(fown).reset_index()\n",
    "    df_own.set_index(key,inplace=True)\n",
    "    df_view = pd.read_csv(fovr).reset_index()\n",
    "    df_view.set_index(key,inplace=True)\n",
    "    df = pd.merge(df_own,df_view,how='inner',left_index = True, right_index=True)\n",
    "    df.reset_index(inplace=True)\n",
    "\n",
    "                \n",
    "    transform = get_transform('stg_finviz_summary') \n",
    "    apply_transform(df,transform)\n",
    "    df = df[['Ticker','eps','earnings','P/E','e/p','outstanding_shares']]\n",
    "\n",
    "    df.to_csv(stg_path + 'stock_screener_summary.csv')\n",
    "\n",
    "\n",
    "enrich_data_finviz(var)"
   ]
  },
  {
   "cell_type": "code",
   "execution_count": 12,
   "metadata": {},
   "outputs": [
    {
     "data": {
      "application/vnd.jupyter.widget-view+json": {
       "model_id": "3198f111f7764ca8b2efce88da9e2fa2",
       "version_major": 2,
       "version_minor": 0
      },
      "text/plain": [
       "HBox(children=(FloatProgress(value=0.0, description='Summarize dataset', max=32.0, style=ProgressStyle(descrip…"
      ]
     },
     "metadata": {},
     "output_type": "display_data"
    },
    {
     "name": "stdout",
     "output_type": "stream",
     "text": [
      "\n"
     ]
    },
    {
     "data": {
      "application/vnd.jupyter.widget-view+json": {
       "model_id": "deffff23c45547fcbda55301e4a9207a",
       "version_major": 2,
       "version_minor": 0
      },
      "text/plain": [
       "HBox(children=(FloatProgress(value=0.0, description='Generate report structure', max=1.0, style=ProgressStyle(…"
      ]
     },
     "metadata": {},
     "output_type": "display_data"
    },
    {
     "name": "stdout",
     "output_type": "stream",
     "text": [
      "\n"
     ]
    },
    {
     "data": {
      "application/vnd.jupyter.widget-view+json": {
       "model_id": "806274afc4764fecbfdd0084114e77ce",
       "version_major": 2,
       "version_minor": 0
      },
      "text/plain": [
       "HBox(children=(FloatProgress(value=0.0, description='Render HTML', max=1.0, style=ProgressStyle(description_wi…"
      ]
     },
     "metadata": {},
     "output_type": "display_data"
    },
    {
     "name": "stdout",
     "output_type": "stream",
     "text": [
      "\n"
     ]
    },
    {
     "data": {
      "application/vnd.jupyter.widget-view+json": {
       "model_id": "5075d183782e4dfc9adf642bfab5ebe9",
       "version_major": 2,
       "version_minor": 0
      },
      "text/plain": [
       "HBox(children=(FloatProgress(value=0.0, description='Export report to file', max=1.0, style=ProgressStyle(desc…"
      ]
     },
     "metadata": {},
     "output_type": "display_data"
    },
    {
     "name": "stdout",
     "output_type": "stream",
     "text": [
      "\n"
     ]
    },
    {
     "data": {
      "application/vnd.jupyter.widget-view+json": {
       "model_id": "32b01838caf247b0af436a6f6e7a0003",
       "version_major": 2,
       "version_minor": 0
      },
      "text/plain": [
       "HBox(children=(FloatProgress(value=0.0, description='Summarize dataset', max=25.0, style=ProgressStyle(descrip…"
      ]
     },
     "metadata": {},
     "output_type": "display_data"
    },
    {
     "name": "stdout",
     "output_type": "stream",
     "text": [
      "\n"
     ]
    },
    {
     "data": {
      "application/vnd.jupyter.widget-view+json": {
       "model_id": "6c443e356eae4d82a131c3c6df4a9273",
       "version_major": 2,
       "version_minor": 0
      },
      "text/plain": [
       "HBox(children=(FloatProgress(value=0.0, description='Generate report structure', max=1.0, style=ProgressStyle(…"
      ]
     },
     "metadata": {},
     "output_type": "display_data"
    },
    {
     "name": "stdout",
     "output_type": "stream",
     "text": [
      "\n"
     ]
    },
    {
     "data": {
      "application/vnd.jupyter.widget-view+json": {
       "model_id": "c54e099c66ae462db4c239eaac2c618b",
       "version_major": 2,
       "version_minor": 0
      },
      "text/plain": [
       "HBox(children=(FloatProgress(value=0.0, description='Render HTML', max=1.0, style=ProgressStyle(description_wi…"
      ]
     },
     "metadata": {},
     "output_type": "display_data"
    },
    {
     "name": "stdout",
     "output_type": "stream",
     "text": [
      "\n"
     ]
    },
    {
     "data": {
      "application/vnd.jupyter.widget-view+json": {
       "model_id": "0cdad9272de04ddf8d00b0e55b384f0d",
       "version_major": 2,
       "version_minor": 0
      },
      "text/plain": [
       "HBox(children=(FloatProgress(value=0.0, description='Export report to file', max=1.0, style=ProgressStyle(desc…"
      ]
     },
     "metadata": {},
     "output_type": "display_data"
    },
    {
     "name": "stdout",
     "output_type": "stream",
     "text": [
      "\n"
     ]
    },
    {
     "data": {
      "application/vnd.jupyter.widget-view+json": {
       "model_id": "3d622d77e4b54f418e8650d7e0e3e2e5",
       "version_major": 2,
       "version_minor": 0
      },
      "text/plain": [
       "HBox(children=(FloatProgress(value=0.0, description='Summarize dataset', max=29.0, style=ProgressStyle(descrip…"
      ]
     },
     "metadata": {},
     "output_type": "display_data"
    },
    {
     "name": "stdout",
     "output_type": "stream",
     "text": [
      "\n"
     ]
    },
    {
     "data": {
      "application/vnd.jupyter.widget-view+json": {
       "model_id": "e81dec44343e4c35bc8c848ec4deffd2",
       "version_major": 2,
       "version_minor": 0
      },
      "text/plain": [
       "HBox(children=(FloatProgress(value=0.0, description='Generate report structure', max=1.0, style=ProgressStyle(…"
      ]
     },
     "metadata": {},
     "output_type": "display_data"
    },
    {
     "name": "stdout",
     "output_type": "stream",
     "text": [
      "\n"
     ]
    },
    {
     "data": {
      "application/vnd.jupyter.widget-view+json": {
       "model_id": "d259593e92fd4487bc7e0a39367dbefb",
       "version_major": 2,
       "version_minor": 0
      },
      "text/plain": [
       "HBox(children=(FloatProgress(value=0.0, description='Render HTML', max=1.0, style=ProgressStyle(description_wi…"
      ]
     },
     "metadata": {},
     "output_type": "display_data"
    },
    {
     "name": "stdout",
     "output_type": "stream",
     "text": [
      "\n"
     ]
    },
    {
     "data": {
      "application/vnd.jupyter.widget-view+json": {
       "model_id": "588f158190184e15adae0c6c9c7483bc",
       "version_major": 2,
       "version_minor": 0
      },
      "text/plain": [
       "HBox(children=(FloatProgress(value=0.0, description='Export report to file', max=1.0, style=ProgressStyle(desc…"
      ]
     },
     "metadata": {},
     "output_type": "display_data"
    },
    {
     "name": "stdout",
     "output_type": "stream",
     "text": [
      "\n"
     ]
    },
    {
     "data": {
      "application/vnd.jupyter.widget-view+json": {
       "model_id": "e075a298c5434605a668c9ba22f54f97",
       "version_major": 2,
       "version_minor": 0
      },
      "text/plain": [
       "HBox(children=(FloatProgress(value=0.0, description='Summarize dataset', max=25.0, style=ProgressStyle(descrip…"
      ]
     },
     "metadata": {},
     "output_type": "display_data"
    },
    {
     "name": "stdout",
     "output_type": "stream",
     "text": [
      "\n"
     ]
    },
    {
     "data": {
      "application/vnd.jupyter.widget-view+json": {
       "model_id": "529da80ee9c64036bc0a446ca65aea2a",
       "version_major": 2,
       "version_minor": 0
      },
      "text/plain": [
       "HBox(children=(FloatProgress(value=0.0, description='Generate report structure', max=1.0, style=ProgressStyle(…"
      ]
     },
     "metadata": {},
     "output_type": "display_data"
    },
    {
     "name": "stdout",
     "output_type": "stream",
     "text": [
      "\n"
     ]
    },
    {
     "data": {
      "application/vnd.jupyter.widget-view+json": {
       "model_id": "3a471893a38544c88cfbf7eb11f92e95",
       "version_major": 2,
       "version_minor": 0
      },
      "text/plain": [
       "HBox(children=(FloatProgress(value=0.0, description='Render HTML', max=1.0, style=ProgressStyle(description_wi…"
      ]
     },
     "metadata": {},
     "output_type": "display_data"
    },
    {
     "name": "stdout",
     "output_type": "stream",
     "text": [
      "\n"
     ]
    },
    {
     "data": {
      "application/vnd.jupyter.widget-view+json": {
       "model_id": "5652317d88754466873fc8a5baed2d73",
       "version_major": 2,
       "version_minor": 0
      },
      "text/plain": [
       "HBox(children=(FloatProgress(value=0.0, description='Export report to file', max=1.0, style=ProgressStyle(desc…"
      ]
     },
     "metadata": {},
     "output_type": "display_data"
    },
    {
     "name": "stdout",
     "output_type": "stream",
     "text": [
      "\n"
     ]
    },
    {
     "data": {
      "application/vnd.jupyter.widget-view+json": {
       "model_id": "901764b3a2ae48d4b97b39ea70028d69",
       "version_major": 2,
       "version_minor": 0
      },
      "text/plain": [
       "HBox(children=(FloatProgress(value=0.0, description='Summarize dataset', max=30.0, style=ProgressStyle(descrip…"
      ]
     },
     "metadata": {},
     "output_type": "display_data"
    },
    {
     "name": "stdout",
     "output_type": "stream",
     "text": [
      "\n"
     ]
    },
    {
     "data": {
      "application/vnd.jupyter.widget-view+json": {
       "model_id": "3a44c7525824461d980a7ec5a933936b",
       "version_major": 2,
       "version_minor": 0
      },
      "text/plain": [
       "HBox(children=(FloatProgress(value=0.0, description='Generate report structure', max=1.0, style=ProgressStyle(…"
      ]
     },
     "metadata": {},
     "output_type": "display_data"
    },
    {
     "name": "stdout",
     "output_type": "stream",
     "text": [
      "\n"
     ]
    },
    {
     "data": {
      "application/vnd.jupyter.widget-view+json": {
       "model_id": "3f5c554f6454488db8bcbc0e8dc6bbfd",
       "version_major": 2,
       "version_minor": 0
      },
      "text/plain": [
       "HBox(children=(FloatProgress(value=0.0, description='Render HTML', max=1.0, style=ProgressStyle(description_wi…"
      ]
     },
     "metadata": {},
     "output_type": "display_data"
    },
    {
     "name": "stdout",
     "output_type": "stream",
     "text": [
      "\n"
     ]
    },
    {
     "data": {
      "application/vnd.jupyter.widget-view+json": {
       "model_id": "21d1b2cb913e40c6a488d33fd0d1df1e",
       "version_major": 2,
       "version_minor": 0
      },
      "text/plain": [
       "HBox(children=(FloatProgress(value=0.0, description='Export report to file', max=1.0, style=ProgressStyle(desc…"
      ]
     },
     "metadata": {},
     "output_type": "display_data"
    },
    {
     "name": "stdout",
     "output_type": "stream",
     "text": [
      "\n"
     ]
    },
    {
     "data": {
      "application/vnd.jupyter.widget-view+json": {
       "model_id": "17e0c37316824015bd272144ba30170d",
       "version_major": 2,
       "version_minor": 0
      },
      "text/plain": [
       "HBox(children=(FloatProgress(value=0.0, description='Summarize dataset', max=29.0, style=ProgressStyle(descrip…"
      ]
     },
     "metadata": {},
     "output_type": "display_data"
    },
    {
     "name": "stdout",
     "output_type": "stream",
     "text": [
      "\n"
     ]
    },
    {
     "data": {
      "application/vnd.jupyter.widget-view+json": {
       "model_id": "e436f986914c45699b32fc4f8c734113",
       "version_major": 2,
       "version_minor": 0
      },
      "text/plain": [
       "HBox(children=(FloatProgress(value=0.0, description='Generate report structure', max=1.0, style=ProgressStyle(…"
      ]
     },
     "metadata": {},
     "output_type": "display_data"
    },
    {
     "name": "stdout",
     "output_type": "stream",
     "text": [
      "\n"
     ]
    },
    {
     "data": {
      "application/vnd.jupyter.widget-view+json": {
       "model_id": "401593372e91457ba035637239c40a3f",
       "version_major": 2,
       "version_minor": 0
      },
      "text/plain": [
       "HBox(children=(FloatProgress(value=0.0, description='Render HTML', max=1.0, style=ProgressStyle(description_wi…"
      ]
     },
     "metadata": {},
     "output_type": "display_data"
    },
    {
     "name": "stdout",
     "output_type": "stream",
     "text": [
      "\n"
     ]
    },
    {
     "data": {
      "application/vnd.jupyter.widget-view+json": {
       "model_id": "a458c28ddc9b4c688ab5186f0fd288c0",
       "version_major": 2,
       "version_minor": 0
      },
      "text/plain": [
       "HBox(children=(FloatProgress(value=0.0, description='Export report to file', max=1.0, style=ProgressStyle(desc…"
      ]
     },
     "metadata": {},
     "output_type": "display_data"
    },
    {
     "name": "stdout",
     "output_type": "stream",
     "text": [
      "\n"
     ]
    },
    {
     "data": {
      "application/vnd.jupyter.widget-view+json": {
       "model_id": "6a58117e725a4309bbda9a097ca31624",
       "version_major": 2,
       "version_minor": 0
      },
      "text/plain": [
       "HBox(children=(FloatProgress(value=0.0, description='Summarize dataset', max=32.0, style=ProgressStyle(descrip…"
      ]
     },
     "metadata": {},
     "output_type": "display_data"
    },
    {
     "name": "stdout",
     "output_type": "stream",
     "text": [
      "\n"
     ]
    },
    {
     "data": {
      "application/vnd.jupyter.widget-view+json": {
       "model_id": "67b584a0ef064b80a256f6ff707df11f",
       "version_major": 2,
       "version_minor": 0
      },
      "text/plain": [
       "HBox(children=(FloatProgress(value=0.0, description='Generate report structure', max=1.0, style=ProgressStyle(…"
      ]
     },
     "metadata": {},
     "output_type": "display_data"
    },
    {
     "name": "stdout",
     "output_type": "stream",
     "text": [
      "\n"
     ]
    },
    {
     "data": {
      "application/vnd.jupyter.widget-view+json": {
       "model_id": "3922e6a97aab47b6926c348aa59e4339",
       "version_major": 2,
       "version_minor": 0
      },
      "text/plain": [
       "HBox(children=(FloatProgress(value=0.0, description='Render HTML', max=1.0, style=ProgressStyle(description_wi…"
      ]
     },
     "metadata": {},
     "output_type": "display_data"
    },
    {
     "name": "stdout",
     "output_type": "stream",
     "text": [
      "\n"
     ]
    },
    {
     "data": {
      "application/vnd.jupyter.widget-view+json": {
       "model_id": "54457b9f9536457d9e86c779e5af0e65",
       "version_major": 2,
       "version_minor": 0
      },
      "text/plain": [
       "HBox(children=(FloatProgress(value=0.0, description='Export report to file', max=1.0, style=ProgressStyle(desc…"
      ]
     },
     "metadata": {},
     "output_type": "display_data"
    },
    {
     "name": "stdout",
     "output_type": "stream",
     "text": [
      "\n"
     ]
    },
    {
     "data": {
      "application/vnd.jupyter.widget-view+json": {
       "model_id": "9d6f836edad7480fb0bf9c4854260e78",
       "version_major": 2,
       "version_minor": 0
      },
      "text/plain": [
       "HBox(children=(FloatProgress(value=0.0, description='Summarize dataset', max=25.0, style=ProgressStyle(descrip…"
      ]
     },
     "metadata": {},
     "output_type": "display_data"
    },
    {
     "name": "stdout",
     "output_type": "stream",
     "text": [
      "\n"
     ]
    },
    {
     "data": {
      "application/vnd.jupyter.widget-view+json": {
       "model_id": "4191a6d9bff1493d9dfea0a0b48f2965",
       "version_major": 2,
       "version_minor": 0
      },
      "text/plain": [
       "HBox(children=(FloatProgress(value=0.0, description='Generate report structure', max=1.0, style=ProgressStyle(…"
      ]
     },
     "metadata": {},
     "output_type": "display_data"
    },
    {
     "name": "stdout",
     "output_type": "stream",
     "text": [
      "\n"
     ]
    },
    {
     "data": {
      "application/vnd.jupyter.widget-view+json": {
       "model_id": "962db93c133f4e299dd64f771315139c",
       "version_major": 2,
       "version_minor": 0
      },
      "text/plain": [
       "HBox(children=(FloatProgress(value=0.0, description='Render HTML', max=1.0, style=ProgressStyle(description_wi…"
      ]
     },
     "metadata": {},
     "output_type": "display_data"
    },
    {
     "name": "stdout",
     "output_type": "stream",
     "text": [
      "\n"
     ]
    },
    {
     "data": {
      "application/vnd.jupyter.widget-view+json": {
       "model_id": "d8665be0aa294ec1adfd07bd473e627b",
       "version_major": 2,
       "version_minor": 0
      },
      "text/plain": [
       "HBox(children=(FloatProgress(value=0.0, description='Export report to file', max=1.0, style=ProgressStyle(desc…"
      ]
     },
     "metadata": {},
     "output_type": "display_data"
    },
    {
     "name": "stdout",
     "output_type": "stream",
     "text": [
      "\n"
     ]
    }
   ],
   "source": [
    "def generate_docs():\n",
    "    from pandas_profiling import ProfileReport\n",
    "    env_var, err_var, data_var, transform = unpack_variables(var)\n",
    "    stg_path = env_var.get('stg_path')\n",
    "    ldg_path = env_var.get('ldg_path')\n",
    "    \n",
    "\n",
    "    for i in map_landing_code[module]:\n",
    "        file = i.get('file')\n",
    "        df = pd.read_csv(ldg_path + file)\n",
    "        profile = ProfileReport(df, title= 'Profile: ' + file + ' (Landing)')\n",
    "        profile.to_file(ldg_path + 'profile_' + file[0:-4] + '.html')\n",
    "        \n",
    "generate_docs()"
   ]
  },
  {
   "cell_type": "code",
   "execution_count": 1,
   "metadata": {},
   "outputs": [
    {
     "name": "stderr",
     "output_type": "stream",
     "text": [
      "C:\\ProgramData\\Anaconda3\\lib\\site-packages\\statsmodels\\tools\\_testing.py:19: FutureWarning: pandas.util.testing is deprecated. Use the functions in the public API at pandas.testing instead.\n",
      "  import pandas.util.testing as tm\n"
     ]
    }
   ],
   "source": [
    "#!pip install --user --upgrade joblib\n",
    "#!pip install pandas-profiling --user\n",
    "#!pip install <https://github.com/pandas-profiling/pandas-profiling/archive/master.zip> --user\n",
    "import pandas_profiling as pp\n",
    "from pandas_profiling import ProfileReport\n"
   ]
  },
  {
   "cell_type": "code",
   "execution_count": null,
   "metadata": {},
   "outputs": [],
   "source": []
  }
 ],
 "metadata": {
  "kernelspec": {
   "display_name": "Python 3",
   "language": "python",
   "name": "python3"
  },
  "language_info": {
   "codemirror_mode": {
    "name": "ipython",
    "version": 3
   },
   "file_extension": ".py",
   "mimetype": "text/x-python",
   "name": "python",
   "nbconvert_exporter": "python",
   "pygments_lexer": "ipython3",
   "version": "3.7.4"
  }
 },
 "nbformat": 4,
 "nbformat_minor": 2
}
